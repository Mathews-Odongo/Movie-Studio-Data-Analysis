{
 "cells": [
  {
   "cell_type": "code",
   "execution_count": null,
   "id": "415e9434-9a28-489f-ad21-bbd5105a387d",
   "metadata": {},
   "outputs": [],
   "source": []
  }
 ],
 "metadata": {
  "kernelspec": {
   "display_name": "",
   "name": ""
  },
  "language_info": {
   "name": ""
  }
 },
 "nbformat": 4,
 "nbformat_minor": 5
}
